{
  "nbformat": 4,
  "nbformat_minor": 0,
  "metadata": {
    "colab": {
      "name": "Untitled0.ipynb",
      "provenance": [],
      "authorship_tag": "ABX9TyNtvaHPeH1SAIWohEt/5LhR",
      "include_colab_link": true
    },
    "kernelspec": {
      "name": "python3",
      "display_name": "Python 3"
    },
    "language_info": {
      "name": "python"
    }
  },
  "cells": [
    {
      "cell_type": "markdown",
      "metadata": {
        "id": "view-in-github",
        "colab_type": "text"
      },
      "source": [
        "<a href=\"https://colab.research.google.com/github/DivyanshKs/Coursera-test/blob/master/NumPy%20Practices.ipynb\" target=\"_parent\"><img src=\"https://colab.research.google.com/assets/colab-badge.svg\" alt=\"Open In Colab\"/></a>"
      ]
    },
    {
      "cell_type": "code",
      "metadata": {
        "colab": {
          "base_uri": "https://localhost:8080/"
        },
        "id": "KRwl1RdeXu9T",
        "outputId": "2382c463-3ea2-462f-fd06-0390256efdf3"
      },
      "source": [
        "import numpy as np\n",
        "l = list(range(1,11))\n",
        "print(\"List : \",l)\n",
        "arr = np.array(l)\n",
        "print(\"Array : \",arr)"
      ],
      "execution_count": 3,
      "outputs": [
        {
          "output_type": "stream",
          "text": [
            "List :  [1, 2, 3, 4, 5, 6, 7, 8, 9, 10]\n",
            "Array :  [ 1  2  3  4  5  6  7  8  9 10]\n"
          ],
          "name": "stdout"
        }
      ]
    },
    {
      "cell_type": "code",
      "metadata": {
        "colab": {
          "base_uri": "https://localhost:8080/"
        },
        "id": "R4dPOd6RZV6i",
        "outputId": "7ae230ef-6db2-4ea5-f104-047a0f936a0e"
      },
      "source": [
        "type(arr)\n",
        "arr.dtype"
      ],
      "execution_count": 4,
      "outputs": [
        {
          "output_type": "execute_result",
          "data": {
            "text/plain": [
              "dtype('int64')"
            ]
          },
          "metadata": {
            "tags": []
          },
          "execution_count": 4
        }
      ]
    },
    {
      "cell_type": "code",
      "metadata": {
        "colab": {
          "base_uri": "https://localhost:8080/"
        },
        "id": "NI9_mgGMZic4",
        "outputId": "db09e1aa-ce5f-42d6-8603-071d210d5a6d"
      },
      "source": [
        "l2 = [1,2.0,'Three', True]\n",
        "arr2 = np.array(l2)\n",
        "print(\"Array 2 : \",arr2)"
      ],
      "execution_count": 6,
      "outputs": [
        {
          "output_type": "stream",
          "text": [
            "Array 2 :  ['1' '2.0' 'Three' 'True']\n"
          ],
          "name": "stdout"
        }
      ]
    },
    {
      "cell_type": "code",
      "metadata": {
        "colab": {
          "base_uri": "https://localhost:8080/"
        },
        "id": "8-mv0OzbZ9TP",
        "outputId": "11090f75-74b8-4c48-bec0-9fc580d90ebc"
      },
      "source": [
        "type(arr2)\n",
        "for i in arr2:\n",
        "  print(type(i))\n",
        "\n",
        "arr2.dtype"
      ],
      "execution_count": 7,
      "outputs": [
        {
          "output_type": "stream",
          "text": [
            "<class 'numpy.str_'>\n",
            "<class 'numpy.str_'>\n",
            "<class 'numpy.str_'>\n",
            "<class 'numpy.str_'>\n"
          ],
          "name": "stdout"
        },
        {
          "output_type": "execute_result",
          "data": {
            "text/plain": [
              "dtype('<U32')"
            ]
          },
          "metadata": {
            "tags": []
          },
          "execution_count": 7
        }
      ]
    },
    {
      "cell_type": "code",
      "metadata": {
        "colab": {
          "base_uri": "https://localhost:8080/"
        },
        "id": "OIyYwWqYaqH-",
        "outputId": "976ac7c1-90e8-4359-b21f-0e60d94d5d5a"
      },
      "source": [
        "np.arange(1,11)"
      ],
      "execution_count": 8,
      "outputs": [
        {
          "output_type": "execute_result",
          "data": {
            "text/plain": [
              "array([ 1,  2,  3,  4,  5,  6,  7,  8,  9, 10])"
            ]
          },
          "metadata": {
            "tags": []
          },
          "execution_count": 8
        }
      ]
    },
    {
      "cell_type": "code",
      "metadata": {
        "colab": {
          "base_uri": "https://localhost:8080/"
        },
        "id": "3Ebr1axuhL_0",
        "outputId": "b26a35ec-94c9-455e-ae50-5bfeb3c87ad6"
      },
      "source": [
        "a = np.arange(-10,0,2)\n",
        "print(a)\n",
        "a=a*2\n",
        "print(a)\n",
        "print(a.sum())\n",
        "print(a.size)\n",
        "print(np.abs(a))\n",
        "b = np.array([1.2, 2.3, 3.4, 4.6, 5.0])\n",
        "print(np.ceil(b))\n",
        "print(np.floor(b))\n",
        "print(np.around(b,decimals=0))"
      ],
      "execution_count": 9,
      "outputs": [
        {
          "output_type": "stream",
          "text": [
            "[-10  -8  -6  -4  -2]\n",
            "[-20 -16 -12  -8  -4]\n",
            "-60\n",
            "5\n",
            "[20 16 12  8  4]\n",
            "[2. 3. 4. 5. 5.]\n",
            "[1. 2. 3. 4. 5.]\n",
            "[1. 2. 3. 5. 5.]\n"
          ],
          "name": "stdout"
        }
      ]
    },
    {
      "cell_type": "code",
      "metadata": {
        "colab": {
          "base_uri": "https://localhost:8080/"
        },
        "id": "lqMOnUz2sghv",
        "outputId": "62a72e9e-6d15-47b9-fa8e-3f7784012ff3"
      },
      "source": [
        "c = np.arange(5,15)\n",
        "c[2:8]=-2\n",
        "c"
      ],
      "execution_count": 10,
      "outputs": [
        {
          "output_type": "execute_result",
          "data": {
            "text/plain": [
              "array([ 5,  6, -2, -2, -2, -2, -2, -2, 13, 14])"
            ]
          },
          "metadata": {
            "tags": []
          },
          "execution_count": 10
        }
      ]
    },
    {
      "cell_type": "code",
      "metadata": {
        "colab": {
          "base_uri": "https://localhost:8080/"
        },
        "id": "6SHY-RPNs9-O",
        "outputId": "516a03e1-76b5-471b-9946-c7d62d812160"
      },
      "source": [
        "c[2:8] = [1, 2, 3, 4, 5, 6]\n",
        "c"
      ],
      "execution_count": 11,
      "outputs": [
        {
          "output_type": "execute_result",
          "data": {
            "text/plain": [
              "array([ 5,  6,  1,  2,  3,  4,  5,  6, 13, 14])"
            ]
          },
          "metadata": {
            "tags": []
          },
          "execution_count": 11
        }
      ]
    },
    {
      "cell_type": "code",
      "metadata": {
        "colab": {
          "base_uri": "https://localhost:8080/"
        },
        "id": "LlYMBeJ1tXJt",
        "outputId": "782fd1da-0863-4103-98ab-eddf7b247c6b"
      },
      "source": [
        "d = c[2:8].copy()\n",
        "print(\"d \",d)\n",
        "c[2] = 100\n",
        "print(\"c \",c)\n",
        "print(\"d \",d)\n",
        "d[4] = 100\n",
        "print(\"c \",c)\n",
        "print(\"d \",d)"
      ],
      "execution_count": 12,
      "outputs": [
        {
          "output_type": "stream",
          "text": [
            "d  [1 2 3 4 5 6]\n",
            "c  [  5   6 100   2   3   4   5   6  13  14]\n",
            "d  [1 2 3 4 5 6]\n",
            "c  [  5   6 100   2   3   4   5   6  13  14]\n",
            "d  [  1   2   3   4 100   6]\n"
          ],
          "name": "stdout"
        }
      ]
    },
    {
      "cell_type": "code",
      "metadata": {
        "id": "O4dC_1qu1LWm",
        "colab": {
          "base_uri": "https://localhost:8080/"
        },
        "outputId": "6121d5f2-94cb-4914-d46e-d55ad9600957"
      },
      "source": [
        "arr3 = np.arange(1,13)\n",
        "arr4 = arr3.reshape(3,4)\n",
        "print(\"Array 3 \",arr3)\n",
        "print(arr4)\n",
        "arr4 = arr4+(4*5)\n",
        "print(arr4)\n",
        "arr4 = arr4.reshape(2,1,6)\n",
        "arr4"
      ],
      "execution_count": 26,
      "outputs": [
        {
          "output_type": "stream",
          "text": [
            "Array 3  [ 1  2  3  4  5  6  7  8  9 10 11 12]\n",
            "[[ 1  2  3  4]\n",
            " [ 5  6  7  8]\n",
            " [ 9 10 11 12]]\n",
            "[[21 22 23 24]\n",
            " [25 26 27 28]\n",
            " [29 30 31 32]]\n"
          ],
          "name": "stdout"
        },
        {
          "output_type": "execute_result",
          "data": {
            "text/plain": [
              "array([[[21, 22, 23, 24, 25, 26]],\n",
              "\n",
              "       [[27, 28, 29, 30, 31, 32]]])"
            ]
          },
          "metadata": {
            "tags": []
          },
          "execution_count": 26
        }
      ]
    },
    {
      "cell_type": "code",
      "metadata": {
        "colab": {
          "base_uri": "https://localhost:8080/"
        },
        "id": "pL4xXESwXv2Q",
        "outputId": "965a42cc-7fe3-4276-c1c5-de48f3b8bb4c"
      },
      "source": [
        "arr4[0]"
      ],
      "execution_count": 27,
      "outputs": [
        {
          "output_type": "execute_result",
          "data": {
            "text/plain": [
              "array([[21, 22, 23, 24, 25, 26]])"
            ]
          },
          "metadata": {
            "tags": []
          },
          "execution_count": 27
        }
      ]
    },
    {
      "cell_type": "code",
      "metadata": {
        "colab": {
          "base_uri": "https://localhost:8080/"
        },
        "id": "IGo1HlNkXzBS",
        "outputId": "d3105fbc-1b50-4d92-b11c-0c00072fc583"
      },
      "source": [
        "print(arr4[0][0][5])\n",
        "arr4[1,0,5]"
      ],
      "execution_count": 35,
      "outputs": [
        {
          "output_type": "stream",
          "text": [
            "26\n"
          ],
          "name": "stdout"
        },
        {
          "output_type": "execute_result",
          "data": {
            "text/plain": [
              "32"
            ]
          },
          "metadata": {
            "tags": []
          },
          "execution_count": 35
        }
      ]
    },
    {
      "cell_type": "code",
      "metadata": {
        "colab": {
          "base_uri": "https://localhost:8080/"
        },
        "id": "w2eUOTODYTpX",
        "outputId": "02e2bb69-ed11-4101-c006-47bb7db31cdb"
      },
      "source": [
        "arr4[0,0,::2]"
      ],
      "execution_count": 39,
      "outputs": [
        {
          "output_type": "execute_result",
          "data": {
            "text/plain": [
              "array([21, 23, 25])"
            ]
          },
          "metadata": {
            "tags": []
          },
          "execution_count": 39
        }
      ]
    },
    {
      "cell_type": "code",
      "metadata": {
        "colab": {
          "base_uri": "https://localhost:8080/"
        },
        "id": "FzJ4YSoZZWRj",
        "outputId": "22733e70-dd86-47ef-9f22-1fefbdd5247e"
      },
      "source": [
        "arr4 = arr4.reshape(2,2,3)\n",
        "print(arr4)\n",
        "print(arr4[:2,:1,1:2])\n",
        "print(arr4.T)\n",
        "arr4[:,1:2,:] = arr4[:,1:2,:]-20\n",
        "print(arr4)"
      ],
      "execution_count": 46,
      "outputs": [
        {
          "output_type": "stream",
          "text": [
            "[[[21 22 23]\n",
            "  [24 25 26]]\n",
            "\n",
            " [[27 28 29]\n",
            "  [30 31 32]]]\n",
            "[[[22]]\n",
            "\n",
            " [[28]]]\n",
            "[[[21 27]\n",
            "  [24 30]]\n",
            "\n",
            " [[22 28]\n",
            "  [25 31]]\n",
            "\n",
            " [[23 29]\n",
            "  [26 32]]]\n",
            "[[[21 22 23]\n",
            "  [ 4  5  6]]\n",
            "\n",
            " [[27 28 29]\n",
            "  [10 11 12]]]\n"
          ],
          "name": "stdout"
        }
      ]
    },
    {
      "cell_type": "code",
      "metadata": {
        "colab": {
          "base_uri": "https://localhost:8080/"
        },
        "id": "xv_mf74GdGXR",
        "outputId": "424ab177-4963-491b-b0f6-e301dbb1005a"
      },
      "source": [
        "arr4.sum(axis=0)"
      ],
      "execution_count": 47,
      "outputs": [
        {
          "output_type": "execute_result",
          "data": {
            "text/plain": [
              "array([[48, 50, 52],\n",
              "       [14, 16, 18]])"
            ]
          },
          "metadata": {
            "tags": []
          },
          "execution_count": 47
        }
      ]
    },
    {
      "cell_type": "code",
      "metadata": {
        "colab": {
          "base_uri": "https://localhost:8080/"
        },
        "id": "CpNzQF_FdW3R",
        "outputId": "589cea03-1966-4375-e16f-88ade3231f2b"
      },
      "source": [
        "arr4.sum(axis=1)"
      ],
      "execution_count": 48,
      "outputs": [
        {
          "output_type": "execute_result",
          "data": {
            "text/plain": [
              "array([[25, 27, 29],\n",
              "       [37, 39, 41]])"
            ]
          },
          "metadata": {
            "tags": []
          },
          "execution_count": 48
        }
      ]
    },
    {
      "cell_type": "code",
      "metadata": {
        "colab": {
          "base_uri": "https://localhost:8080/"
        },
        "id": "zWn_FjFWdlcK",
        "outputId": "eb672aed-f097-46e3-fe6f-035a994f4984"
      },
      "source": [
        "arr4.cumsum()"
      ],
      "execution_count": 49,
      "outputs": [
        {
          "output_type": "execute_result",
          "data": {
            "text/plain": [
              "array([ 21,  43,  66,  70,  75,  81, 108, 136, 165, 175, 186, 198])"
            ]
          },
          "metadata": {
            "tags": []
          },
          "execution_count": 49
        }
      ]
    },
    {
      "cell_type": "code",
      "metadata": {
        "colab": {
          "base_uri": "https://localhost:8080/"
        },
        "id": "XE5EROZdd0te",
        "outputId": "d979ff37-590e-4b12-9240-4f376811c092"
      },
      "source": [
        "arr4.prod()"
      ],
      "execution_count": 51,
      "outputs": [
        {
          "output_type": "execute_result",
          "data": {
            "text/plain": [
              "36901564761600"
            ]
          },
          "metadata": {
            "tags": []
          },
          "execution_count": 51
        }
      ]
    }
  ]
}